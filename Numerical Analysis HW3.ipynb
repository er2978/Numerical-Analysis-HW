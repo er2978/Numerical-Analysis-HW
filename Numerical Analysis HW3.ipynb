{
 "cells": [
  {
   "cell_type": "code",
   "execution_count": 336,
   "id": "44bb589c",
   "metadata": {},
   "outputs": [],
   "source": [
    "import numpy as np\n",
    "import matplotlib.pyplot as plt\n",
    "import scipy.linalg\n",
    "from scipy.linalg import solve_triangular"
   ]
  },
  {
   "cell_type": "markdown",
   "id": "f1200ead",
   "metadata": {},
   "source": [
    "# Question 3:\n",
    "The asymptotic complexity of the given algorithm is $\\mathcal{O}(n^3)$ because we have n iterations, and within each iteration we need to find the pivot (which takes $n - j$ per iteration), swap the rows of L, U, and P (though for L we may not need to swap as per question 2) and this culminates in scalar subtracting one row from the kth row in U (again $n - j$). In total this is $\\mathcal{O}(n^3)$. \n"
   ]
  },
  {
   "cell_type": "code",
   "execution_count": 337,
   "id": "c167d032",
   "metadata": {},
   "outputs": [],
   "source": [
    "def LU_Decomp(A):\n",
    "    n = len(A)\n",
    "    U = A.copy()\n",
    "    L = np.eye(n)\n",
    "    P = np.eye(n)\n",
    "    for j in range(n-1):\n",
    "        i = np.argmax(np.abs(U[j:n, j])) + j\n",
    "        if i != j:\n",
    "            U[[i, j], j:n] = U[[j, i], j:n]\n",
    "            P[[i, j], :] = P[[j, i], :]\n",
    "            for k in range(j+1, n):\n",
    "                L[k, j] = U[k, j]/U[j, j]\n",
    "                U[k, j:] = U[k, j:] - L[k, j]*U[j, j:]\n",
    "    return U, L, P\n"
   ]
  },
  {
   "cell_type": "markdown",
   "id": "0014f0d9",
   "metadata": {},
   "source": [
    "For L we can just forward substitute because the first element is 1 (unit L) and therefore we get the first element of c automatically, allowing us to cascade the rest from the lower triangular structure:"
   ]
  },
  {
   "cell_type": "markdown",
   "id": "c8d347ae",
   "metadata": {},
   "source": [
    "For U we need to divide since it's not unit U."
   ]
  },
  {
   "cell_type": "code",
   "execution_count": 338,
   "id": "64da0c18",
   "metadata": {},
   "outputs": [],
   "source": [
    "def Lsolve(L, c, n):\n",
    "    y = np.zeros(n)\n",
    "    y[0] = c[0]\n",
    "    for i in range(len(L)-1):\n",
    "        y[i+1] = c[i+1] - np.dot(L[i+1, 0:i], y[0:i])\n",
    "    return y\n",
    "\n",
    "def Usolve(U, d, n):\n",
    "    z = np.zeros(n)\n",
    "    z[0] = np.divide(d[0],U[0, 0])\n",
    "    for j in range(len(U)-1):\n",
    "        z[j+1] = np.divide((d[j+1] - np.dot(U[j+1, 0:j], z[0:j])), (U[j+1, j+1]))\n",
    "    return z "
   ]
  },
  {
   "cell_type": "code",
   "execution_count": 341,
   "id": "ae24fc2b",
   "metadata": {},
   "outputs": [
    {
     "name": "stdout",
     "output_type": "stream",
     "text": [
      "[9.97304916e-04 4.41026688e-03 2.52916813e-02 1.90127611e-01\n",
      " 2.20229840e+00 2.91902628e+01 6.34810669e+02]\n"
     ]
    }
   ],
   "source": [
    "import time\n",
    "n_arr = [10, 30, 100, 300, 1000, 3000, 10000]\n",
    "\n",
    "def t(n_arr):\n",
    "    ends = np.zeros(len(n_arr))\n",
    "    end_s = np.zeros(len(n_arr))\n",
    "    \n",
    "    for i in range(len(n_arr)):\n",
    "        n = n_arr[i]\n",
    "        A = np.random.randn(n, n)\n",
    "        b = np.random.randn(n) \n",
    "        \n",
    "        start = time.time()\n",
    "        U, L, P = LU_Decomp(A)\n",
    "        y = Lsolve(L, b, n)\n",
    "        z = Usolve(U, b, n)\n",
    "        ends[i] = time.time() - start\n",
    "        \n",
    "        start_ = time.time()\n",
    "        Ptrue, Ltrue, Utrue = scipy.linalg.lu(A)\n",
    "        ytrue = scipy.linalg.solve_triangular(Ltrue, b, lower = True)\n",
    "        ztrue = scipy.linalg.solve_triangular(Utrue, b)\n",
    "        end_s[i] = time.time() - start_\n",
    "        \n",
    "    return ends, end_s\n",
    "ends, end_s = t(n_arr)"
   ]
  },
  {
   "cell_type": "code",
   "execution_count": 257,
   "id": "3464d665",
   "metadata": {},
   "outputs": [],
   "source": [
    "U, L, P = LU_Decomp(A)"
   ]
  },
  {
   "cell_type": "code",
   "execution_count": 258,
   "id": "ff0a17f9",
   "metadata": {},
   "outputs": [],
   "source": [
    "Ptrue, Ltrue, Utrue = scipy.linalg.lu(A)\n"
   ]
  },
  {
   "cell_type": "code",
   "execution_count": 270,
   "id": "c6dd62a0",
   "metadata": {},
   "outputs": [
    {
     "name": "stdout",
     "output_type": "stream",
     "text": [
      "645.137647151947\n"
     ]
    }
   ],
   "source": [
    "start = time.time()\n",
    "U, L, P = LU_Decomp(A)\n",
    "y = Lsolve(L, b, n)\n",
    "z = Usolve(U, b, n)\n",
    "end = time.time() - start\n",
    "print(end)"
   ]
  },
  {
   "cell_type": "code",
   "execution_count": 272,
   "id": "d983fdd8",
   "metadata": {},
   "outputs": [
    {
     "name": "stdout",
     "output_type": "stream",
     "text": [
      "12.964760541915894\n"
     ]
    }
   ],
   "source": [
    "start_ = time.time()\n",
    "Ptrue, Ltrue, Utrue = scipy.linalg.lu(A)\n",
    "ytrue = scipy.linalg.solve_triangular(Ltrue, b, lower = True)\n",
    "ztrue = scipy.linalg.solve_triangular(Utrue, b)\n",
    "end_ = time.time() - start_\n",
    "print(end_)"
   ]
  },
  {
   "cell_type": "code",
   "execution_count": 343,
   "id": "a00a64e7",
   "metadata": {},
   "outputs": [
    {
     "data": {
      "text/plain": [
       "Text(0, 0.5, 'time')"
      ]
     },
     "execution_count": 343,
     "metadata": {},
     "output_type": "execute_result"
    },
    {
     "data": {
      "image/png": "[encoded data removed]",
      "text/plain": [
       "<Figure size 360x360 with 1 Axes>"
      ]
     },
     "metadata": {
      "needs_background": "light"
     },
     "output_type": "display_data"
    }
   ],
   "source": [
    "plt.figure(figsize = (5, 5))\n",
    "plt.loglog(n_arr, ends, c = \"#6D21FF\", label = \"logplot\")\n",
    "plt.title(\"Computing time vs Matrix Size -- Homemade LU\")\n",
    "plt.xlabel(\"n's\")\n",
    "plt.ylabel(\"time\")"
   ]
  },
  {
   "cell_type": "code",
   "execution_count": 342,
   "id": "65715bf1",
   "metadata": {},
   "outputs": [
    {
     "data": {
      "text/plain": [
       "Text(0, 0.5, 'time')"
      ]
     },
     "execution_count": 342,
     "metadata": {},
     "output_type": "execute_result"
    },
    {
     "data": {
      "image/png": "[encoded data removed]",
      "text/plain": [
       "<Figure size 360x360 with 1 Axes>"
      ]
     },
     "metadata": {
      "needs_background": "light"
     },
     "output_type": "display_data"
    }
   ],
   "source": [
    "plt.figure(figsize = (5, 5))\n",
    "plt.loglog(n_arr, end_s, c = \"#6D21FF\", label = \"logplot\")\n",
    "plt.title(\"Computing time vs Matrix Size -- Storebought LU\")\n",
    "plt.xlabel(\"n's\")\n",
    "plt.ylabel(\"time\")"
   ]
  },
  {
   "cell_type": "markdown",
   "id": "e34881a3",
   "metadata": {},
   "source": [
    "I observe that they are both exponential, but I assume that the library version has several almost instantaneous outputs because it runs in C or Fortran and is a whole lot quicker (like most library ops.) In fact this is really clear when you look at the runtime length difference between the two graphs -- the storebought only ever reaches ~ $10$ whereas my homemade concoction took ~ $10^3$ and it's not nearly as pretty or effective. Unfortunately these are trying times, and people like I have to get by on a patchwork LU factorization every so often.\n",
    "\n",
    "\n",
    "I should also mention I am very sorry for never commenting my code -- it comes from the fact that I run each cell about 300 to 400 times and I frequently delete and start fresh, so I never really have a good idea of what to write in a comment."
   ]
  }
 ],
 "metadata": {
  "kernelspec": {
   "display_name": "Python 3 (ipykernel)",
   "language": "python",
   "name": "python3"
  },
  "language_info": {
   "codemirror_mode": {
    "name": "ipython",
    "version": 3
   },
   "file_extension": ".py",
   "mimetype": "text/x-python",
   "name": "python",
   "nbconvert_exporter": "python",
   "pygments_lexer": "ipython3",
   "version": "3.9.7"
  }
 },
 "nbformat": 4,
 "nbformat_minor": 5
}
