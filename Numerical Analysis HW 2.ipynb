{
 "cells": [
  {
   "cell_type": "code",
   "execution_count": 2,
   "id": "a0d18d50",
   "metadata": {},
   "outputs": [],
   "source": [
    "import numpy as np\n",
    "import matplotlib.pyplot as plt"
   ]
  },
  {
   "cell_type": "code",
   "execution_count": 213,
   "id": "e6b8f8ca",
   "metadata": {},
   "outputs": [
    {
     "name": "stdout",
     "output_type": "stream",
     "text": [
      "1.6999999999999998e-15\n"
     ]
    }
   ],
   "source": [
    "epsnew = 1.7*10**-15\n",
    "A = np.array([[1,1],[1, 1 + eps]])\n",
    "while np.linalg.matrix_rank(A) < 2:\n",
    "    epsnew = np.nextafter(epsnew, -np.inf)\n",
    "    A = np.array([[1,1],[1, 1 + epsnew]])\n",
    "print(epsnew)"
   ]
  },
  {
   "cell_type": "markdown",
   "id": "8a0ac82b",
   "metadata": {},
   "source": [
    "1.6999999999999998E-15 and yes there are smaller values of epsilon for which Python considers A_0 and A_eps distinct"
   ]
  },
  {
   "cell_type": "code",
   "execution_count": 208,
   "id": "e8d51f58",
   "metadata": {},
   "outputs": [
    {
     "name": "stdout",
     "output_type": "stream",
     "text": [
      "[0.0, 8.659878196752531e-16, 8.505196680273498e-16, 1.1013500511752915e-13, 1.1004610769305319e-13, 6.551110338841682e-12, 8.226661283217254e-11, 5.838671553199505e-10, 6.077471062248492e-09, 8.274036405402194e-08, 8.274036407263854e-08, 8.274036422708807e-08, 8.889267972995825e-05, 0.0007999171934435347, 0.0007999171934435919, 0.09928007452590062]\n",
      "[6.854101966249685, 42.07623361422564, 402.00751248429464, 4002.000750125414, 40002.000074915224, 400002.00000320596, 4000002.0005977214, 40000001.90919617, 400000006.23500454, 3999999887.515756, 39999991794.0589, 399996089953.52924, 3999491959654.264, 40048563355501.93, 403980212641367.7, 3218391346913887.5]\n"
     ]
    }
   ],
   "source": [
    "aepsinv = []\n",
    "a_inv_arr = []\n",
    "err = []\n",
    "kappa = []\n",
    "for i in range(len(epsarr)):\n",
    "    A = np.array([[1,1],[1, 1 + epsarr[i]]])\n",
    "    aepsinv.append(np.linalg.inv(A))\n",
    "    a_real_inv = np.array([[1 + (1/epsarr[i]), -1/epsarr[i]], [-1/epsarr[i], 1/epsarr[i]]])\n",
    "    a_inv_arr.append(a_real_inv)\n",
    "    err.append(np.linalg.norm(a_inv_arr[i]-aepsinv[i], ord=2)/np.linalg.norm(a_real_inv, ord = 2))\n",
    "    kappa.append(np.linalg.cond(A))\n",
    "print(err)\n",
    "print(kappa)"
   ]
  },
  {
   "cell_type": "code",
   "execution_count": 206,
   "id": "6cef5833",
   "metadata": {},
   "outputs": [
    {
     "name": "stdout",
     "output_type": "stream",
     "text": [
      "[0.0, 8.659878196752531e-16, 8.505196680273498e-16, 1.1013500511752915e-13, 1.1004610769305319e-13, 6.551110338841682e-12, 8.226661283217254e-11, 5.838671553199505e-10, 6.077471062248492e-09, 8.274036405402194e-08, 8.274036407263854e-08, 8.274036422708807e-08, 8.889267972995825e-05, 0.0007999171934435347, 0.0007999171934435919, 0.09928007452590062]\n"
     ]
    },
    {
     "data": {
      "text/plain": [
       "Text(0, 0.5, 'Error')"
      ]
     },
     "execution_count": 206,
     "metadata": {},
     "output_type": "execute_result"
    },
    {
     "data": {
      "image/png": "[encoded data removed]",
      "text/plain": [
       "<Figure size 360x360 with 1 Axes>"
      ]
     },
     "metadata": {
      "needs_background": "light"
     },
     "output_type": "display_data"
    }
   ],
   "source": [
    "epsarr = [1, 1*10**-1, 1*10**-2, 1*10**-3, 1*10**-4, 1*10**-5, 1*10**-6, 1*10**-7, 1*10**-8, 1*10**-9, 1*10**-10, 1*10**-11, 1*10**-12, 1*10**-13, 1*10**-14, 1*10**-15,]\n",
    "print(err)\n",
    "plt.figure(figsize = (5, 5))\n",
    "plt.loglog(epsarr, err, c = \"#6D21FF\", label = \"logplot\")\n",
    "plt.title(\"Error lol-LogLog Plot\")\n",
    "plt.xlabel(\"Epsilon Value\")\n",
    "plt.ylabel(\"Error\")"
   ]
  },
  {
   "cell_type": "code",
   "execution_count": 211,
   "id": "be6688e6",
   "metadata": {},
   "outputs": [
    {
     "data": {
      "text/plain": [
       "Text(0, 0.5, 'Condition Number')"
      ]
     },
     "execution_count": 211,
     "metadata": {},
     "output_type": "execute_result"
    },
    {
     "data": {
      "image/png": "[encoded data removed]",
      "text/plain": [
       "<Figure size 360x360 with 1 Axes>"
      ]
     },
     "metadata": {
      "needs_background": "light"
     },
     "output_type": "display_data"
    }
   ],
   "source": [
    "plt.figure(figsize = (5, 5))\n",
    "plt.loglog(epsarr, kappa, c = \"#FFBF00\", label = \"logplot\")\n",
    "plt.title(\"Error lol-LogLog Plot\")\n",
    "plt.xlabel(\"Epsilon Value\")\n",
    "plt.ylabel(\"Condition Number\")"
   ]
  },
  {
   "cell_type": "markdown",
   "id": "93be613e",
   "metadata": {},
   "source": [
    "## Question 3 Part F: \n",
    "Both the error and the condition number fall with an increase in epsilon."
   ]
  },
  {
   "cell_type": "code",
   "execution_count": 228,
   "id": "fb6b9ff6",
   "metadata": {},
   "outputs": [
    {
     "name": "stdout",
     "output_type": "stream",
     "text": [
      "[0.18181818181818155, 0.019801980198018727, 0.0019980019978849536, 0.00019998000166826052, 1.9999799923259728e-05, 2.000108022054685e-06, 1.9999997025503486e-07, 8.897769516596663e-09, 2.000000163980742e-09, 2.0000020726795322e-10, 2.0000001654657426e-11, 2.000299882327804e-12, 1.998401444325132e-13, 1.9984014443252666e-14, 2.2204460492503115e-15]\n",
      "[42.067137566202256, 402.00741347378136, 4002.0007491272713, 40002.000075006785, 400002.0000037671, 4000002.0004043183, 40000001.97168049, 400000019.12240756, 3999998161.405265, 39999895919.162544, 399996840943.46313, 4000514756081.3066, 39937536176261.125, 398850251803430.6, 3160490553574865.0]\n"
     ]
    }
   ],
   "source": [
    "epsarr = [1*10**-1, 1*10**-2, 1*10**-3, 1*10**-4, 1*10**-5, 1*10**-6, 1*10**-7, 1*10**-8, 1*10**-9, 1*10**-10, 1*10**-11, 1*10**-12, 1*10**-13, 1*10**-14, 1*10**-15,]\n",
    "New_arr = []\n",
    "New_inv_arr = []\n",
    "New_err_arr = []\n",
    "NewRealInvArray = []\n",
    "kappaNew = []\n",
    "for i in range(len(epsarr)):\n",
    "    New = np.array([[1, 1+epsarr[i]],[1+epsarr[i], 1+epsarr[i]]])\n",
    "    New_arr.append(New)\n",
    "    New_inv_arr.append(np.linalg.inv(New))\n",
    "    New_real_inv = (-1/((1+epsarr[i])-(1+epsarr[i]**2)))*np.array([[1+epsarr[i],-(1+epsarr[i])], [-(1+epsarr[i]), 1]])\n",
    "    NewRealInvArray.append(New_real_inv)\n",
    "    New_err = np.linalg.norm(New_inv_arr[i]-NewRealInvArray[i], ord=2)/np.linalg.norm(NewRealInvArray[i], ord = 2)\n",
    "    New_err_arr.append(New_err)\n",
    "    kappaNew.append(np.linalg.cond(New))\n",
    "print(New_err_arr)\n",
    "print(kappaNew)"
   ]
  }
 ],
 "metadata": {
  "kernelspec": {
   "display_name": "Python 3 (ipykernel)",
   "language": "python",
   "name": "python3"
  },
  "language_info": {
   "codemirror_mode": {
    "name": "ipython",
    "version": 3
   },
   "file_extension": ".py",
   "mimetype": "text/x-python",
   "name": "python",
   "nbconvert_exporter": "python",
   "pygments_lexer": "ipython3",
   "version": "3.9.7"
  }
 },
 "nbformat": 4,
 "nbformat_minor": 5
}
